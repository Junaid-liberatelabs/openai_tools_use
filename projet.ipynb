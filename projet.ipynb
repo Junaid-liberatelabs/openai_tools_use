{
 "cells": [
  {
   "cell_type": "code",
   "execution_count": 2,
   "metadata": {},
   "outputs": [],
   "source": [
    "import openai\n",
    "from openai import OpenAI\n",
    "from dotenv import load_dotenv\n",
    "import os\n",
    "load_dotenv() \n",
    "\n",
    "openai.api_key = os.getenv(\"OPENAI_API_KEY\")\n",
    "\n",
    "\n",
    "client = OpenAI()"
   ]
  },
  {
   "cell_type": "code",
   "execution_count": 3,
   "metadata": {},
   "outputs": [],
   "source": [
    "\n",
    "# respponse = client.chat.completions.create(\n",
    "#     model=\"gpt-4o-mini\",\n",
    "#     messages=[\n",
    "#         {\"role\": \"system\", \"content\": \"You are a helpful assistant.\"},\n",
    "#         {\"role\": \"user\", \"content\": \"What is human life expectancy in the United States?\"}\n",
    "#     ]   \n",
    "# )   \n",
    "# print(respponse.choices[0].message.content)"
   ]
  },
  {
   "cell_type": "code",
   "execution_count": 4,
   "metadata": {},
   "outputs": [
    {
     "name": "stdout",
     "output_type": "stream",
     "text": [
      "vs_67d880fa9a64819184f0d214b135acc0\n",
      "SyncCursorPage[VectorStoreFile](data=[VectorStoreFile(id='file-QdxHzqPc6AEWnenh8T4LM6', created_at=1742242043, last_error=None, object='vector_store.file', status='in_progress', usage_bytes=0, vector_store_id='vs_67d880fa9a64819184f0d214b135acc0', attributes={}, chunking_strategy=StaticFileChunkingStrategyObject(static=StaticFileChunkingStrategy(chunk_overlap_tokens=400, max_chunk_size_tokens=800), type='static'))], has_more=False, object='list', first_id='file-QdxHzqPc6AEWnenh8T4LM6', last_id='file-QdxHzqPc6AEWnenh8T4LM6')\n"
     ]
    }
   ],
   "source": [
    "import requests\n",
    "from io import BytesIO\n",
    "\n",
    "\n",
    "def create_file(client, file_path):\n",
    "    with open(file_path, \"rb\") as file_content:\n",
    "            result = client.files.create(\n",
    "                file=file_content,\n",
    "                purpose=\"assistants\"\n",
    "            )\n",
    "    # print(result.id)\n",
    "    return result.id\n",
    "\n",
    "file_id = create_file(client, \"user.txt\")\n",
    "\n",
    "vector_store = client.vector_stores.create(\n",
    "    name=\"knowledge_base\"\n",
    ")\n",
    "print(vector_store.id)\n",
    "\n",
    "result = client.vector_stores.files.create(\n",
    "    vector_store_id=vector_store.id,\n",
    "    file_id=file_id\n",
    ")\n",
    "result = client.vector_stores.files.list(\n",
    "    vector_store_id=vector_store.id\n",
    ")\n",
    "print(result)"
   ]
  },
  {
   "cell_type": "code",
   "execution_count": 6,
   "metadata": {},
   "outputs": [
    {
     "name": "stdout",
     "output_type": "stream",
     "text": [
      "The user's name is **Alex Smith** and his ratings across different platforms are as follows:\n",
      "\n",
      "- **Codeforces**: 1020\n",
      "- **Codechef**: 980\n",
      "- **AtCoder**: 850\n",
      "- **LeetCode**: Streak of 15 days, Success Rate: 65%.\n"
     ]
    }
   ],
   "source": [
    "response = client.responses.create(\n",
    "    model=\"gpt-4o-mini\",\n",
    "    input=\"what is the name and rating of the user?\",\n",
    "    tools=[{\n",
    "        \"type\": \"file_search\",\n",
    "        \"vector_store_ids\": [\"vs_67d747b5c0a48191852b145388d0049d\"]\n",
    "    }]\n",
    ")\n",
    "print(response.output[1].content[0].text)"
   ]
  },
  {
   "cell_type": "code",
   "execution_count": 9,
   "metadata": {},
   "outputs": [
    {
     "name": "stdout",
     "output_type": "stream",
     "text": [
      "Here are three problem suggestions tailored to your strengths and areas for improvement:\n",
      "\n",
      "1. **Codeforces Problem: A. Watermelon**\n",
      "   - **Difficulty**: Easy\n",
      "   - **Tags**: Implementation, Math\n",
      "   - **Link**: [Problem Link](https://codeforces.com/problemset/problem/4/A)\n",
      "   - **Description**: Determine if a given watermelon can be divided into two parts such that both parts weigh even numbers.\n",
      "\n",
      "2. **Codechef Problem: Simple GCD**\n",
      "   - **Difficulty**: Easy\n",
      "   - **Tags**: Math\n",
      "   - **Link**: [Problem Link](https://www.codechef.com/problems/GCD)\n",
      "   - **Description**: Given two numbers, find their GCD and print it.\n",
      "\n",
      "3. **LeetCode Problem: Two Sum**\n",
      "   - **Difficulty**: Easy\n",
      "   - **Tags**: Array, Hash Table\n",
      "   - **Link**: [Problem Link](https://leetcode.com/problems/two-sum/)\n",
      "   - **Description**: Given an array of integers, return indices of the two numbers such that they add up to a specific target.\n",
      "\n",
      "These problems will help reinforce your problem-solving fundamentals and improve your understanding of mathematical concepts.\n"
     ]
    }
   ],
   "source": [
    "def get_response(query):\n",
    "    response = client.responses.create( \n",
    "        model=\"gpt-4o-mini\",\n",
    "        input=query,\n",
    "        instructions=\"\"\"\n",
    "        You're a Competitive Programming Mentor. You're helping a student with a problem. \n",
    "        The student is stuck on a problem and asks for help.\n",
    "        When asked for problem suggestions, suggest problems from these sites:\n",
    "        Codeforces, Codechef, Atcoder, Leetcode, Hackerrank, Topcoder, and A2OJ Ladder.\n",
    "        Consider the user's rating, problem difficulty (easy, medium, hard), and problem tags \n",
    "        (such as dp, greedy, graph, math, etc.) when suggesting problems.\n",
    "        - Use the file_search tool to search for the user's file.\n",
    "        - Use the web_search_preview tool to search for problems. include citations.\n",
    "        \"\"\",\n",
    "        tools=[\n",
    "            {\n",
    "                \"type\": \"file_search\",\n",
    "                \"vector_store_ids\": [\"vs_67d747b5c0a48191852b145388d0049d\",],\n",
    "                # \"filters\": {\n",
    "                #     \"type\": \"eq\",\n",
    "                #     \"key\": \"username\",\n",
    "                #     \"value\": \"Alex smith\"\n",
    "                # }\n",
    "            },\n",
    "            {\n",
    "                \"type\": \"web_search_preview\"\n",
    "            }\n",
    "        ],\n",
    "        # stream=True\n",
    "    )\n",
    "    return response\n",
    "\n",
    "# Get the streaming response object\n",
    "stream = get_response(\"suggest me three problems\")\n",
    "\n",
    "# Iterate through the stream to print out the results\n",
    "print(stream.output[1].content[0].text)\n",
    "# import rich\n",
    "# rich.print(stream)\n",
    "# print(stream)"
   ]
  },
  {
   "cell_type": "markdown",
   "metadata": {},
   "source": []
  },
  {
   "cell_type": "code",
   "execution_count": null,
   "metadata": {},
   "outputs": [
    {
     "ename": "NotImplementedError",
     "evalue": "",
     "output_type": "error",
     "traceback": [
      "\u001b[31m---------------------------------------------------------------------------\u001b[39m",
      "\u001b[31mNotImplementedError\u001b[39m                       Traceback (most recent call last)",
      "\u001b[36mCell\u001b[39m\u001b[36m \u001b[39m\u001b[32mIn[13]\u001b[39m\u001b[32m, line 22\u001b[39m\n\u001b[32m     19\u001b[39m         \u001b[38;5;28;01mawait\u001b[39;00m browser.close()\n\u001b[32m     21\u001b[39m \u001b[38;5;66;03m# Use await directly without asyncio.run()\u001b[39;00m\n\u001b[32m---> \u001b[39m\u001b[32m22\u001b[39m \u001b[38;5;28;01mawait\u001b[39;00m run()\n",
      "\u001b[36mCell\u001b[39m\u001b[36m \u001b[39m\u001b[32mIn[13]\u001b[39m\u001b[32m, line 5\u001b[39m, in \u001b[36mrun\u001b[39m\u001b[34m()\u001b[39m\n\u001b[32m      4\u001b[39m \u001b[38;5;28;01masync\u001b[39;00m \u001b[38;5;28;01mdef\u001b[39;00m\u001b[38;5;250m \u001b[39m\u001b[34mrun\u001b[39m():\n\u001b[32m----> \u001b[39m\u001b[32m5\u001b[39m     \u001b[38;5;28;01masync\u001b[39;00m \u001b[38;5;28;01mwith\u001b[39;00m async_playwright() \u001b[38;5;28;01mas\u001b[39;00m p:\n\u001b[32m      6\u001b[39m         browser = \u001b[38;5;28;01mawait\u001b[39;00m p.chromium.launch(\n\u001b[32m      7\u001b[39m             headless=\u001b[38;5;28;01mFalse\u001b[39;00m,\n\u001b[32m      8\u001b[39m             chromium_sandbox=\u001b[38;5;28;01mTrue\u001b[39;00m,\n\u001b[32m   (...)\u001b[39m\u001b[32m     13\u001b[39m             ]\n\u001b[32m     14\u001b[39m         )\n\u001b[32m     15\u001b[39m         page = \u001b[38;5;28;01mawait\u001b[39;00m browser.new_page()\n",
      "\u001b[36mFile \u001b[39m\u001b[32md:\\codes\\openai_tools\\.venv\\Lib\\site-packages\\playwright\\async_api\\_context_manager.py:46\u001b[39m, in \u001b[36mPlaywrightContextManager.__aenter__\u001b[39m\u001b[34m(self)\u001b[39m\n\u001b[32m     44\u001b[39m \u001b[38;5;28;01mif\u001b[39;00m \u001b[38;5;129;01mnot\u001b[39;00m playwright_future.done():\n\u001b[32m     45\u001b[39m     playwright_future.cancel()\n\u001b[32m---> \u001b[39m\u001b[32m46\u001b[39m playwright = AsyncPlaywright(\u001b[38;5;28;43mnext\u001b[39;49m\u001b[43m(\u001b[49m\u001b[38;5;28;43miter\u001b[39;49m\u001b[43m(\u001b[49m\u001b[43mdone\u001b[49m\u001b[43m)\u001b[49m\u001b[43m)\u001b[49m\u001b[43m.\u001b[49m\u001b[43mresult\u001b[49m\u001b[43m(\u001b[49m\u001b[43m)\u001b[49m)\n\u001b[32m     47\u001b[39m playwright.stop = \u001b[38;5;28mself\u001b[39m.\u001b[34m__aexit__\u001b[39m  \u001b[38;5;66;03m# type: ignore\u001b[39;00m\n\u001b[32m     48\u001b[39m \u001b[38;5;28;01mreturn\u001b[39;00m playwright\n",
      "\u001b[36mFile \u001b[39m\u001b[32md:\\codes\\openai_tools\\.venv\\Lib\\site-packages\\playwright\\_impl\\_transport.py:120\u001b[39m, in \u001b[36mPipeTransport.connect\u001b[39m\u001b[34m(self)\u001b[39m\n\u001b[32m    117\u001b[39m         startupinfo.wShowWindow = subprocess.SW_HIDE\n\u001b[32m    119\u001b[39m     executable_path, entrypoint_path = compute_driver_executable()\n\u001b[32m--> \u001b[39m\u001b[32m120\u001b[39m     \u001b[38;5;28mself\u001b[39m._proc = \u001b[38;5;28;01mawait\u001b[39;00m asyncio.create_subprocess_exec(\n\u001b[32m    121\u001b[39m         executable_path,\n\u001b[32m    122\u001b[39m         entrypoint_path,\n\u001b[32m    123\u001b[39m         \u001b[33m\"\u001b[39m\u001b[33mrun-driver\u001b[39m\u001b[33m\"\u001b[39m,\n\u001b[32m    124\u001b[39m         stdin=asyncio.subprocess.PIPE,\n\u001b[32m    125\u001b[39m         stdout=asyncio.subprocess.PIPE,\n\u001b[32m    126\u001b[39m         stderr=_get_stderr_fileno(),\n\u001b[32m    127\u001b[39m         limit=\u001b[32m32768\u001b[39m,\n\u001b[32m    128\u001b[39m         env=env,\n\u001b[32m    129\u001b[39m         startupinfo=startupinfo,\n\u001b[32m    130\u001b[39m     )\n\u001b[32m    131\u001b[39m \u001b[38;5;28;01mexcept\u001b[39;00m \u001b[38;5;167;01mException\u001b[39;00m \u001b[38;5;28;01mas\u001b[39;00m exc:\n\u001b[32m    132\u001b[39m     \u001b[38;5;28mself\u001b[39m.on_error_future.set_exception(exc)\n",
      "\u001b[36mFile \u001b[39m\u001b[32m~\\AppData\\Local\\Programs\\Python\\Python313\\Lib\\asyncio\\subprocess.py:224\u001b[39m, in \u001b[36mcreate_subprocess_exec\u001b[39m\u001b[34m(program, stdin, stdout, stderr, limit, *args, **kwds)\u001b[39m\n\u001b[32m    221\u001b[39m loop = events.get_running_loop()\n\u001b[32m    222\u001b[39m protocol_factory = \u001b[38;5;28;01mlambda\u001b[39;00m: SubprocessStreamProtocol(limit=limit,\n\u001b[32m    223\u001b[39m                                                     loop=loop)\n\u001b[32m--> \u001b[39m\u001b[32m224\u001b[39m transport, protocol = \u001b[38;5;28;01mawait\u001b[39;00m loop.subprocess_exec(\n\u001b[32m    225\u001b[39m     protocol_factory,\n\u001b[32m    226\u001b[39m     program, *args,\n\u001b[32m    227\u001b[39m     stdin=stdin, stdout=stdout,\n\u001b[32m    228\u001b[39m     stderr=stderr, **kwds)\n\u001b[32m    229\u001b[39m \u001b[38;5;28;01mreturn\u001b[39;00m Process(transport, protocol, loop)\n",
      "\u001b[36mFile \u001b[39m\u001b[32m~\\AppData\\Local\\Programs\\Python\\Python313\\Lib\\asyncio\\base_events.py:1794\u001b[39m, in \u001b[36mBaseEventLoop.subprocess_exec\u001b[39m\u001b[34m(self, protocol_factory, program, stdin, stdout, stderr, universal_newlines, shell, bufsize, encoding, errors, text, *args, **kwargs)\u001b[39m\n\u001b[32m   1792\u001b[39m     debug_log = \u001b[33mf\u001b[39m\u001b[33m'\u001b[39m\u001b[33mexecute program \u001b[39m\u001b[38;5;132;01m{\u001b[39;00mprogram\u001b[38;5;132;01m!r}\u001b[39;00m\u001b[33m'\u001b[39m\n\u001b[32m   1793\u001b[39m     \u001b[38;5;28mself\u001b[39m._log_subprocess(debug_log, stdin, stdout, stderr)\n\u001b[32m-> \u001b[39m\u001b[32m1794\u001b[39m transport = \u001b[38;5;28;01mawait\u001b[39;00m \u001b[38;5;28mself\u001b[39m._make_subprocess_transport(\n\u001b[32m   1795\u001b[39m     protocol, popen_args, \u001b[38;5;28;01mFalse\u001b[39;00m, stdin, stdout, stderr,\n\u001b[32m   1796\u001b[39m     bufsize, **kwargs)\n\u001b[32m   1797\u001b[39m \u001b[38;5;28;01mif\u001b[39;00m \u001b[38;5;28mself\u001b[39m._debug \u001b[38;5;129;01mand\u001b[39;00m debug_log \u001b[38;5;129;01mis\u001b[39;00m \u001b[38;5;129;01mnot\u001b[39;00m \u001b[38;5;28;01mNone\u001b[39;00m:\n\u001b[32m   1798\u001b[39m     logger.info(\u001b[33m'\u001b[39m\u001b[38;5;132;01m%s\u001b[39;00m\u001b[33m: \u001b[39m\u001b[38;5;132;01m%r\u001b[39;00m\u001b[33m'\u001b[39m, debug_log, transport)\n",
      "\u001b[36mFile \u001b[39m\u001b[32m~\\AppData\\Local\\Programs\\Python\\Python313\\Lib\\asyncio\\base_events.py:539\u001b[39m, in \u001b[36mBaseEventLoop._make_subprocess_transport\u001b[39m\u001b[34m(self, protocol, args, shell, stdin, stdout, stderr, bufsize, extra, **kwargs)\u001b[39m\n\u001b[32m    535\u001b[39m \u001b[38;5;28;01masync\u001b[39;00m \u001b[38;5;28;01mdef\u001b[39;00m\u001b[38;5;250m \u001b[39m\u001b[34m_make_subprocess_transport\u001b[39m(\u001b[38;5;28mself\u001b[39m, protocol, args, shell,\n\u001b[32m    536\u001b[39m                                      stdin, stdout, stderr, bufsize,\n\u001b[32m    537\u001b[39m                                      extra=\u001b[38;5;28;01mNone\u001b[39;00m, **kwargs):\n\u001b[32m    538\u001b[39m \u001b[38;5;250m    \u001b[39m\u001b[33;03m\"\"\"Create subprocess transport.\"\"\"\u001b[39;00m\n\u001b[32m--> \u001b[39m\u001b[32m539\u001b[39m     \u001b[38;5;28;01mraise\u001b[39;00m \u001b[38;5;167;01mNotImplementedError\u001b[39;00m\n",
      "\u001b[31mNotImplementedError\u001b[39m: "
     ]
    }
   ],
   "source": [
    "# import asyncio\n",
    "# from playwright.async_api import async_playwright\n",
    "\n",
    "# async def run():\n",
    "#     async with async_playwright() as p:\n",
    "#         browser = await p.chromium.launch(\n",
    "#             headless=False,\n",
    "#             chromium_sandbox=True,\n",
    "#             env={},\n",
    "#             args=[\n",
    "#                 \"--disable-extensions\",\n",
    "#                 \"--disable-file-system\"\n",
    "#             ]\n",
    "#         )\n",
    "#         page = await browser.new_page()\n",
    "#         await page.set_viewport_size({\"width\": 1024, \"height\": 768})\n",
    "#         await page.goto(\"https://codeforces.com\")\n",
    "#         await page.wait_for_timeout(10000)\n",
    "#         await browser.close()\n",
    "\n",
    "# # Use await directly without asyncio.run()\n",
    "# await run()\n"
   ]
  },
  {
   "cell_type": "code",
   "execution_count": null,
   "metadata": {},
   "outputs": [
    {
     "name": "stdout",
     "output_type": "stream",
     "text": [
      "Response(id='resp_67d8898cd0648191b59ff13fead6278c0ab370168f67ada9', created_at=1742244236.0, error=None, incomplete_details=None, instructions=\"\\n        You're a Competitive Programming Mentor. You're helping a student with a problem. \\n        The student is stuck on a problem and asks for help.\\n        When asked for problem suggestions, suggest problems from these sites:\\n        Codeforces, Codechef, Atcoder, Leetcode, Hackerrank, Topcoder, and A2OJ Ladder.\\n        Consider the user's rating, problem difficulty (easy, medium, hard), and problem tags \\n        (such as dp, greedy, graph, math, etc.) when suggesting problems.\\n        - Use the file_search tool to search for the user's file.\\n        - Use the web_search_preview tool to search for problems. include citations.\\n        \", metadata={}, model='computer-use-preview-2025-03-11', object='response', output=[ResponseOutputMessage(id='msg_67d8898d9778819190c322993c5972050ab370168f67ada9', content=[ResponseOutputText(annotations=[], text=\"Could you specify the level of difficulty you're looking for, your preferred programming platform, and any problem tags or topics you're interested in? This will help me tailor the suggestions for you.\", type='output_text')], role='assistant', status='completed', type='message')], parallel_tool_calls=True, temperature=1.0, tool_choice='auto', tools=[ComputerTool(display_height=1024.0, display_width=768.0, environment='linux', type='computer_use_preview')], top_p=1.0, max_output_tokens=None, previous_response_id=None, reasoning=Reasoning(effort='medium', generate_summary='concise'), status='completed', text=ResponseTextConfig(format=ResponseFormatText(type='text')), truncation='auto', usage=ResponseUsage(input_tokens=1125, output_tokens=38, output_tokens_details=OutputTokensDetails(reasoning_tokens=0), total_tokens=1163, input_tokens_details={'cached_tokens': 0}), user=None, store=True)\n"
     ]
    }
   ],
   "source": [
    "def get_response(query):\n",
    "    response = client.responses.create( \n",
    "        model=\"computer-use-preview\",\n",
    "        # input=query,\n",
    "        instructions=\"\"\"\n",
    "        You're a Competitive Programming Mentor. You're helping a student with a problem. \n",
    "        The student is stuck on a problem and asks for help.\n",
    "        Wh user's rating, problem difficulty (easy, medium, hard), and problem tags \n",
    "        (such as dp, greedy, graph, math, etc.) when suggesting problems.\n",
    "        - Use the file_search tool to sen asked for problem suggestions, suggest problems from these sites:\n",
    "        Codeforces, Codechef, Atcoder, Leetcode, Hackerrank, Topcoder, and A2OJ Ladder.\n",
    "        Consider theearch for the user's file.\n",
    "        - Use the web_search_preview tool to search for problems. include citations.\n",
    "        \"\"\",\n",
    "        truncation=\"auto\",\n",
    "        tools=[\n",
    "            {\n",
    "                \"type\": \"computer_use_preview\",\n",
    "                \"display_height\": 1024,\n",
    "                \"display_width\": 768,\n",
    "                \"environment\" : \"linux\"\n",
    "                \n",
    "            }\n",
    "        ],\n",
    "        \n",
    "    input=[\n",
    "        {\n",
    "            \"role\": \"user\",\n",
    "            \"content\": query\n",
    "        }\n",
    "        # Optional: include a screenshot of the initial state of the environment\n",
    "        # {\n",
    "        #     type: \"input_image\",\n",
    "        #     image_url: f\"data:image/png;base64,{screenshot_base64}\"\n",
    "        # }\n",
    "    ],\n",
    "    reasoning={\n",
    "        \"generate_summary\": \"concise\",\n",
    "    },\n",
    "        # stream=True\n",
    "    )\n",
    "    return response\n",
    "\n",
    "# Get the streaming response object\n",
    "stream = get_response(\"suggest me three problems\")\n",
    "\n",
    "# Iterate through the stream to print out the results\n",
    "# print(stream.output[1].content[0].text)\n",
    "print(stream)"
   ]
  }
 ],
 "metadata": {
  "kernelspec": {
   "display_name": ".venv",
   "language": "python",
   "name": "python3"
  },
  "language_info": {
   "codemirror_mode": {
    "name": "ipython",
    "version": 3
   },
   "file_extension": ".py",
   "mimetype": "text/x-python",
   "name": "python",
   "nbconvert_exporter": "python",
   "pygments_lexer": "ipython3",
   "version": "3.13.2"
  }
 },
 "nbformat": 4,
 "nbformat_minor": 2
}
